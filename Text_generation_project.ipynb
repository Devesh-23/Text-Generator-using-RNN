{
  "nbformat": 4,
  "nbformat_minor": 0,
  "metadata": {
    "colab": {
      "provenance": []
    },
    "kernelspec": {
      "name": "python3",
      "display_name": "Python 3"
    },
    "language_info": {
      "name": "python"
    }
  },
  "cells": [
    {
      "cell_type": "code",
      "execution_count": null,
      "metadata": {
        "id": "crblMJJ4AyEp"
      },
      "outputs": [],
      "source": [
        "# Import the req lib\n",
        "import pandas as pd\n",
        "import re\n",
        "# import nltk\n",
        "# nltk.download('stopwords')\n",
        "# from nltk.corpus import stopwords\n",
        "# from nltk.stem.porter import PorterStemmer\n",
        "\n",
        "import numpy as np\n",
        "from keras.utils import np_utils\n",
        "import sys"
      ]
    },
    {
      "cell_type": "code",
      "source": [
        "path = \"/content/sherlock-holmes.txt\"\n",
        "with open(path, \"r\") as file1:\n",
        "    raw_text = file1.read()\n",
        "    # print(raw_data)"
      ],
      "metadata": {
        "id": "2JfdpLOEBDSZ"
      },
      "execution_count": null,
      "outputs": []
    },
    {
      "cell_type": "code",
      "source": [
        "#Data Cleaning\n",
        "raw_text = raw_text.lower()[:1000]\n",
        "chars = sorted(list(set(raw_text)))\n",
        "print(chars)"
      ],
      "metadata": {
        "colab": {
          "base_uri": "https://localhost:8080/"
        },
        "id": "hK9Dm7VEEnK8",
        "outputId": "2624cd9d-4fd1-4766-e25a-50029ca86be8"
      },
      "execution_count": null,
      "outputs": [
        {
          "output_type": "stream",
          "name": "stdout",
          "text": [
            "['\\n', ' ', \"'\", '-', '1', '2', '3', 'a', 'b', 'c', 'd', 'e', 'f', 'g', 'h', 'i', 'k', 'l', 'm', 'n', 'o', 'p', 'r', 's', 't', 'u', 'v', 'w', 'y']\n"
          ]
        }
      ]
    },
    {
      "cell_type": "code",
      "source": [
        "# reg = re.sub('[^a-zA-Z]',' ',demo)\n",
        "bad_chars = [':',';','½']\n",
        "for i in range(len(bad_chars)):\n",
        "  text = raw_text.replace(bad_chars[i],\"\")\n",
        "chars = sorted(list(set(text)))\n",
        "print(chars)"
      ],
      "metadata": {
        "colab": {
          "base_uri": "https://localhost:8080/"
        },
        "id": "7ROKWbvuFkU1",
        "outputId": "17c8b094-6b69-4f9b-b3f2-3f89211be729"
      },
      "execution_count": null,
      "outputs": [
        {
          "output_type": "stream",
          "name": "stdout",
          "text": [
            "['\\n', ' ', \"'\", '-', '1', '2', '3', 'a', 'b', 'c', 'd', 'e', 'f', 'g', 'h', 'i', 'k', 'l', 'm', 'n', 'o', 'p', 'r', 's', 't', 'u', 'v', 'w', 'y']\n"
          ]
        }
      ]
    },
    {
      "cell_type": "code",
      "source": [
        "textlen = len(text)\n",
        "charlen = len(chars)\n",
        "\n",
        "\n",
        "print(\"length is \" + str(textlen))\n",
        "print(\"length is \" + str(charlen))"
      ],
      "metadata": {
        "colab": {
          "base_uri": "https://localhost:8080/"
        },
        "id": "fyQtOCgwHsS6",
        "outputId": "a0e31e73-dc6d-48de-fa13-20fa67d261bf"
      },
      "execution_count": null,
      "outputs": [
        {
          "output_type": "stream",
          "name": "stdout",
          "text": [
            "length is 1000\n",
            "length is 29\n"
          ]
        }
      ]
    },
    {
      "cell_type": "code",
      "source": [
        "SEQ = 100\n",
        "char_to_int = dict((c,i) for i,c in enumerate(chars))\n",
        "data_x = []\n",
        "data_y = []\n",
        "\n",
        "for i in range(len(text) - SEQ):\n",
        "  xtext = text[i:i+SEQ]\n",
        "  X = [char_to_int[char] for char in xtext]\n",
        "  data_x.append(X)\n",
        "  Y = text[i+SEQ]\n",
        "  data_y.append(char_to_int[Y])"
      ],
      "metadata": {
        "id": "K8N4X6qaIHlH"
      },
      "execution_count": null,
      "outputs": []
    },
    {
      "cell_type": "code",
      "source": [
        "length = len(data_x)\n",
        "data_x = np.array(data_x)\n",
        "data_x = np.reshape(data_x,(data_x.shape[0],data_x.shape[1],1))\n",
        "data_x = data_x/float(charlen)\n",
        "\n",
        "data_y = np.array(data_y)\n",
        "data_y = np_utils.to_categorical(data_y)\n",
        "print(data_x.shape)\n",
        "print(data_y.shape)"
      ],
      "metadata": {
        "colab": {
          "base_uri": "https://localhost:8080/"
        },
        "id": "F8OMLO9cJ0Q7",
        "outputId": "c5d2c207-96ec-46e5-f97e-c7fb5953aa62"
      },
      "execution_count": null,
      "outputs": [
        {
          "output_type": "stream",
          "name": "stdout",
          "text": [
            "(900, 100, 1)\n",
            "(900, 29)\n"
          ]
        }
      ]
    },
    {
      "cell_type": "code",
      "source": [
        "#Model building\n",
        "import keras\n",
        "from keras.models import Sequential\n",
        "from keras.layers import Dense, LSTM, Dropout, Activation\n",
        "from keras.optimizers import RMSprop, Adam\n",
        "from keras.callbacks import ModelCheckpoint"
      ],
      "metadata": {
        "id": "P69yPlNMLJ3v"
      },
      "execution_count": null,
      "outputs": []
    },
    {
      "cell_type": "code",
      "source": [
        "model = Sequential()\n",
        "model.add(LSTM(256, input_shape = (SEQ, 1), return_sequences = True))\n",
        "model.add(Dropout (0.2))\n",
        "model.add(LSTM(256))\n",
        "model.add(Dropout (0.2))\n",
        "model.add(Dense(charlen,activation='softmax'))"
      ],
      "metadata": {
        "id": "6cJstHMMLiBA"
      },
      "execution_count": null,
      "outputs": []
    },
    {
      "cell_type": "code",
      "source": [
        "model.compile(loss='categorical_crossentropy',optimizer='adam')"
      ],
      "metadata": {
        "id": "JMsV-7t-MIEy"
      },
      "execution_count": null,
      "outputs": []
    },
    {
      "cell_type": "code",
      "source": [
        "#Define the check point\n",
        "filepath=\"text generation.h5\"\n",
        "checkpoint = ModelCheckpoint(filepath, monitor='loss', verbose=1, save_best_only=True, mode='min')\n",
        "callbacks_list = [checkpoint]\n",
        "history = model.fit(data_x, data_y, epochs=2, batch_size=128, callbacks = callbacks_list)"
      ],
      "metadata": {
        "colab": {
          "base_uri": "https://localhost:8080/"
        },
        "id": "GIAVAa54MpI4",
        "outputId": "489569c9-5076-4852-e917-ca8d69147f39"
      },
      "execution_count": null,
      "outputs": [
        {
          "output_type": "stream",
          "name": "stdout",
          "text": [
            "Epoch 1/2\n",
            "8/8 [==============================] - ETA: 0s - loss: 2.1016\n",
            "Epoch 1: loss improved from inf to 2.10156, saving model to text generation.h5\n",
            "8/8 [==============================] - 15s 2s/step - loss: 2.1016\n",
            "Epoch 2/2\n",
            "8/8 [==============================] - ETA: 0s - loss: 2.0608\n",
            "Epoch 2: loss improved from 2.10156 to 2.06084, saving model to text generation.h5\n",
            "8/8 [==============================] - 15s 2s/step - loss: 2.0608\n"
          ]
        }
      ]
    },
    {
      "cell_type": "code",
      "source": [
        "#load the network weights\n",
        "filename = 'text generation.h5'\n",
        "model.load_weights(filename)\n",
        "model.compile(loss='categorical_crossentropy', optimizer ='adam')"
      ],
      "metadata": {
        "id": "DhiGjGMTNgPY"
      },
      "execution_count": null,
      "outputs": []
    },
    {
      "cell_type": "code",
      "source": [
        "new_text =\"Let us have some You perceive that the resulting has the appearance of pure water The proportion of blood cannot be more than one in a million As he spoke he threw into the vessel a few white crystals and then added some drops of \"\n",
        "new_text = new_text.lower()\n",
        "chars = ['\\n', ' ', \"'\", '-', '1', '2', '3', 'a', 'b', 'c', 'd', 'e', 'f', 'g', 'h', 'i', 'k', 'l', 'm', 'n', 'o', 'p', 'r', 's', 't', 'u', 'v', 'w', 'y']\n",
        "VOCABULARY=len(chars)\n",
        "char_to_int = dict((c, i) for i, c in enumerate(chars))\n",
        "new_text = [char_to_int[c] for c in new_text]\n",
        "int_to_char = dict((i, c) for i, c in enumerate(chars))\n",
        "# test_text = [char_to_int[c] for c in new_text]\n",
        "test_text = new_text"
      ],
      "metadata": {
        "id": "0oPgsltJN1Gd"
      },
      "execution_count": null,
      "outputs": []
    },
    {
      "cell_type": "code",
      "source": [
        "generated_text = []\n",
        "SEQ=100\n",
        "\n",
        "if len(test_text) > 100: test_text =test_text[len(test_text)-100: ]\n",
        "if len(test_text) < 100:\n",
        "      pad = []\n",
        "      space =  char_to_int[' ']\n",
        "      pad = [space for i in range(100-len(test_text))]\n",
        "      test_text = pad + test_text\n",
        "for i in range(100):\n",
        "      X = np.reshape(test_text, (1, SEQ, 1))\n",
        "      X=X / float(VOCABULARY)\n",
        "      Prediction = model.predict(X)\n",
        "      index = np.argmax(Prediction)\n",
        "      result = int_to_char[index]\n",
        "      print(\"result is \",result)\n",
        "      generated_text.append(result)\n",
        "      test_text.append(index)\n",
        "      test_text = test_text[1:]\n",
        "output=' '.join(generated_text)"
      ],
      "metadata": {
        "colab": {
          "base_uri": "https://localhost:8080/"
        },
        "id": "jfaOUK8UO8h6",
        "outputId": "a07bed02-7f4a-429b-d6b1-2b9673a2020f"
      },
      "execution_count": null,
      "outputs": [
        {
          "output_type": "stream",
          "name": "stdout",
          "text": [
            "1/1 [==============================] - 0s 54ms/step\n",
            "result is   \n",
            "1/1 [==============================] - 0s 64ms/step\n",
            "result is   \n",
            "1/1 [==============================] - 0s 60ms/step\n",
            "result is   \n",
            "1/1 [==============================] - 0s 55ms/step\n",
            "result is   \n",
            "1/1 [==============================] - 0s 53ms/step\n",
            "result is   \n",
            "1/1 [==============================] - 0s 59ms/step\n",
            "result is   \n",
            "1/1 [==============================] - 0s 62ms/step\n",
            "result is   \n",
            "1/1 [==============================] - 0s 57ms/step\n",
            "result is   \n",
            "1/1 [==============================] - 0s 57ms/step\n",
            "result is   \n",
            "1/1 [==============================] - 0s 64ms/step\n",
            "result is   \n",
            "1/1 [==============================] - 0s 58ms/step\n",
            "result is   \n",
            "1/1 [==============================] - 0s 53ms/step\n",
            "result is   \n",
            "1/1 [==============================] - 0s 58ms/step\n",
            "result is   \n",
            "1/1 [==============================] - 0s 53ms/step\n",
            "result is   \n",
            "1/1 [==============================] - 0s 56ms/step\n",
            "result is   \n",
            "1/1 [==============================] - 0s 59ms/step\n",
            "result is   \n",
            "1/1 [==============================] - 0s 56ms/step\n",
            "result is   \n",
            "1/1 [==============================] - 0s 72ms/step\n",
            "result is   \n",
            "1/1 [==============================] - 0s 60ms/step\n",
            "result is   \n",
            "1/1 [==============================] - 0s 59ms/step\n",
            "result is   \n",
            "1/1 [==============================] - 0s 63ms/step\n",
            "result is   \n",
            "1/1 [==============================] - 0s 61ms/step\n",
            "result is   \n",
            "1/1 [==============================] - 0s 57ms/step\n",
            "result is   \n",
            "1/1 [==============================] - 0s 58ms/step\n",
            "result is   \n",
            "1/1 [==============================] - 0s 56ms/step\n",
            "result is   \n",
            "1/1 [==============================] - 0s 61ms/step\n",
            "result is   \n",
            "1/1 [==============================] - 0s 58ms/step\n",
            "result is   \n",
            "1/1 [==============================] - 0s 97ms/step\n",
            "result is   \n",
            "1/1 [==============================] - 0s 73ms/step\n",
            "result is   \n",
            "1/1 [==============================] - 0s 75ms/step\n",
            "result is   \n",
            "1/1 [==============================] - 0s 73ms/step\n",
            "result is   \n",
            "1/1 [==============================] - 0s 82ms/step\n",
            "result is   \n",
            "1/1 [==============================] - 0s 75ms/step\n",
            "result is   \n",
            "1/1 [==============================] - 0s 108ms/step\n",
            "result is   \n",
            "1/1 [==============================] - 0s 86ms/step\n",
            "result is   \n",
            "1/1 [==============================] - 0s 75ms/step\n",
            "result is   \n",
            "1/1 [==============================] - 0s 73ms/step\n",
            "result is   \n",
            "1/1 [==============================] - 0s 74ms/step\n",
            "result is   \n",
            "1/1 [==============================] - 0s 74ms/step\n",
            "result is   \n",
            "1/1 [==============================] - 0s 73ms/step\n",
            "result is   \n",
            "1/1 [==============================] - 0s 78ms/step\n",
            "result is   \n",
            "1/1 [==============================] - 0s 83ms/step\n",
            "result is   \n",
            "1/1 [==============================] - 0s 78ms/step\n",
            "result is   \n",
            "1/1 [==============================] - 0s 80ms/step\n",
            "result is   \n",
            "1/1 [==============================] - 0s 78ms/step\n",
            "result is   \n",
            "1/1 [==============================] - 0s 52ms/step\n",
            "result is   \n",
            "1/1 [==============================] - 0s 59ms/step\n",
            "result is   \n",
            "1/1 [==============================] - 0s 60ms/step\n",
            "result is   \n",
            "1/1 [==============================] - 0s 66ms/step\n",
            "result is   \n",
            "1/1 [==============================] - 0s 63ms/step\n",
            "result is   \n",
            "1/1 [==============================] - 0s 71ms/step\n",
            "result is   \n",
            "1/1 [==============================] - 0s 56ms/step\n",
            "result is   \n",
            "1/1 [==============================] - 0s 58ms/step\n",
            "result is   \n",
            "1/1 [==============================] - 0s 63ms/step\n",
            "result is   \n",
            "1/1 [==============================] - 0s 70ms/step\n",
            "result is   \n",
            "1/1 [==============================] - 0s 55ms/step\n",
            "result is   \n",
            "1/1 [==============================] - 0s 60ms/step\n",
            "result is   \n",
            "1/1 [==============================] - 0s 66ms/step\n",
            "result is   \n",
            "1/1 [==============================] - 0s 59ms/step\n",
            "result is   \n",
            "1/1 [==============================] - 0s 60ms/step\n",
            "result is   \n",
            "1/1 [==============================] - 0s 55ms/step\n",
            "result is   \n",
            "1/1 [==============================] - 0s 68ms/step\n",
            "result is   \n",
            "1/1 [==============================] - 0s 55ms/step\n",
            "result is   \n",
            "1/1 [==============================] - 0s 57ms/step\n",
            "result is   \n",
            "1/1 [==============================] - 0s 64ms/step\n",
            "result is   \n",
            "1/1 [==============================] - 0s 59ms/step\n",
            "result is   \n",
            "1/1 [==============================] - 0s 53ms/step\n",
            "result is   \n",
            "1/1 [==============================] - 0s 58ms/step\n",
            "result is   \n",
            "1/1 [==============================] - 0s 60ms/step\n",
            "result is   \n",
            "1/1 [==============================] - 0s 58ms/step\n",
            "result is   \n",
            "1/1 [==============================] - 0s 59ms/step\n",
            "result is   \n",
            "1/1 [==============================] - 0s 57ms/step\n",
            "result is   \n",
            "1/1 [==============================] - 0s 64ms/step\n",
            "result is   \n",
            "1/1 [==============================] - 0s 55ms/step\n",
            "result is   \n",
            "1/1 [==============================] - 0s 59ms/step\n",
            "result is   \n",
            "1/1 [==============================] - 0s 54ms/step\n",
            "result is   \n",
            "1/1 [==============================] - 0s 56ms/step\n",
            "result is   \n",
            "1/1 [==============================] - 0s 53ms/step\n",
            "result is   \n",
            "1/1 [==============================] - 0s 51ms/step\n",
            "result is   \n",
            "1/1 [==============================] - 0s 59ms/step\n",
            "result is   \n",
            "1/1 [==============================] - 0s 60ms/step\n",
            "result is   \n",
            "1/1 [==============================] - 0s 67ms/step\n",
            "result is   \n",
            "1/1 [==============================] - 0s 55ms/step\n",
            "result is   \n",
            "1/1 [==============================] - 0s 67ms/step\n",
            "result is   \n",
            "1/1 [==============================] - 0s 60ms/step\n",
            "result is   \n",
            "1/1 [==============================] - 0s 59ms/step\n",
            "result is   \n",
            "1/1 [==============================] - 0s 59ms/step\n",
            "result is   \n",
            "1/1 [==============================] - 0s 67ms/step\n",
            "result is   \n",
            "1/1 [==============================] - 0s 57ms/step\n",
            "result is   \n",
            "1/1 [==============================] - 0s 58ms/step\n",
            "result is   \n",
            "1/1 [==============================] - 0s 66ms/step\n",
            "result is   \n",
            "1/1 [==============================] - 0s 59ms/step\n",
            "result is   \n",
            "1/1 [==============================] - 0s 62ms/step\n",
            "result is   \n",
            "1/1 [==============================] - 0s 61ms/step\n",
            "result is   \n",
            "1/1 [==============================] - 0s 58ms/step\n",
            "result is   \n",
            "1/1 [==============================] - 0s 58ms/step\n",
            "result is   \n",
            "1/1 [==============================] - 0s 64ms/step\n",
            "result is   \n",
            "1/1 [==============================] - 0s 56ms/step\n",
            "result is   \n",
            "1/1 [==============================] - 0s 64ms/step\n",
            "result is   \n",
            "1/1 [==============================] - 0s 71ms/step\n",
            "result is   \n"
          ]
        }
      ]
    },
    {
      "cell_type": "code",
      "source": [
        "print(output)"
      ],
      "metadata": {
        "colab": {
          "base_uri": "https://localhost:8080/"
        },
        "id": "uholKxWYYpfz",
        "outputId": "419f4dee-df2d-4072-befd-6077d7155183"
      },
      "execution_count": null,
      "outputs": [
        {
          "output_type": "stream",
          "name": "stdout",
          "text": [
            "                                                                                                    \n"
          ]
        }
      ]
    }
  ]
}